{
 "cells": [
  {
   "cell_type": "markdown",
   "metadata": {},
   "source": [
    "## Задача 2. \n",
    "Посчитать коэффициент линейной регрессии при заработной плате (zp), используя градиентный спуск (без intercept) (можно использовать библиотеки питона, вместо градиентого спуска).  \n",
    "  \n",
    "Линейная зависимость: $ \\bar y=b_1+b_0\\cdot \\bar x$  \n",
    "Парная регрессия: $b_0=\\frac{\\bar{xy}-\\bar x\\cdot\\bar y}{\\bar{x^2}-{\\bar x}^2}$ и $b_1=\\bar y-b_0\\cdot\\bar x$  \n",
    "Функция потерь: $mse=\\frac{1}{n}\\sum^n_{i=1}(b_0*\\bar x-{\\bar y})^2$  \n",
    "Производная функция потерь: $mse'=\\frac{2}{n}\\sum^n_{i=1}((b_1*\\bar x-{\\bar y})*\\bar x)$  "
   ]
  },
  {
   "cell_type": "code",
   "execution_count": 70,
   "metadata": {},
   "outputs": [],
   "source": [
    "import numpy as np"
   ]
  },
  {
   "cell_type": "code",
   "execution_count": 71,
   "metadata": {},
   "outputs": [],
   "source": [
    "zp = np.array([35, 45, 190, 200, 40, 70, 54, 150, 120, 110])\n",
    "ks = np.array([401, 574, 874, 919, 459, 739, 653, 902, 746, 832])\n",
    "b0 = (np.mean(zp * ks) - np.mean(zp) * np.mean(ks)) / (np.mean(zp**2) - np.mean(zp)**2)"
   ]
  },
  {
   "cell_type": "code",
   "execution_count": 73,
   "metadata": {},
   "outputs": [],
   "source": [
    "def mse(b0, x, y):\n",
    "    return np.sum((b0 * x - y) ** 2) / len(x)\n",
    "\n",
    "def mse_(b1, x, y):\n",
    "    return (2 / len(x)) * np.sum((b1 * x - y) * x)"
   ]
  },
  {
   "cell_type": "code",
   "execution_count": 74,
   "metadata": {},
   "outputs": [
    {
     "name": "stdout",
     "output_type": "stream",
     "text": [
      "Итерация = 0, b1 = 0.25952808000000005, mse = 493237.7212546963\n",
      "Итерация = 300, b1 = 5.888531320728348, mse = 56516.88130936019\n",
      "Итерация = 600, b1 = 5.889820124983314, mse = 56516.85841572062\n",
      "Итерация = 900, b1 = 5.889820420065112, mse = 56516.85841571941\n",
      "Итерация = 1200, b1 = 5.889820420132673, mse = 56516.85841571943\n",
      "Итерация = 1500, b1 = 5.889820420132673, mse = 56516.85841571943\n",
      "Итерация = 1800, b1 = 5.889820420132673, mse = 56516.85841571943\n",
      "Итерация = 2100, b1 = 5.889820420132673, mse = 56516.85841571943\n",
      "Итерация = 2400, b1 = 5.889820420132673, mse = 56516.85841571943\n",
      "Итерация = 2700, b1 = 5.889820420132673, mse = 56516.85841571943\n"
     ]
    }
   ],
   "source": [
    "alpha = 1e-6\n",
    "b1 = 0.1\n",
    "iteration = 3000\n",
    "for i in range(iteration):\n",
    "    b1 -= alpha * mse_(b1, zp, ks)\n",
    "    if i % 300 == 0:\n",
    "        print(f'Итерация = {i}, b1 = {b1}, mse = {mse(b1, zp, ks)}'.format(i = i, b1 = b1, mse = mse_(b1, zp, ks)))"
   ]
  }
 ],
 "metadata": {
  "kernelspec": {
   "display_name": "Python 3",
   "language": "python",
   "name": "python3"
  },
  "language_info": {
   "codemirror_mode": {
    "name": "ipython",
    "version": 3
   },
   "file_extension": ".py",
   "mimetype": "text/x-python",
   "name": "python",
   "nbconvert_exporter": "python",
   "pygments_lexer": "ipython3",
   "version": "3.11.7"
  }
 },
 "nbformat": 4,
 "nbformat_minor": 2
}
